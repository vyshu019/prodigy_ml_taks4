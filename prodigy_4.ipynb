{
 "cells": [
  {
   "cell_type": "code",
   "execution_count": null,
   "id": "a85c4024",
   "metadata": {},
   "outputs": [],
   "source": [
    "import os\n",
    "import cv2\n",
    "import pickle\n",
    "import numpy as np\n",
    "import pandas as pd\n",
    "import tensorflow as tf\n",
    "import random\n",
    "import matplotlib.pyplot as plt"
   ]
  },
  {
   "cell_type": "code",
   "execution_count": null,
   "id": "549d0854",
   "metadata": {},
   "outputs": [],
   "source": [
    "with open('C:\\\\Users\\\\vyshn\\\\prodigy4.pickle', 'rb') as file:\n",
    "    data = pickle.load(file)\n",
    "file.close()\n",
    "random.shuffle(data)\n",
    "features=[]\n",
    "labels=[]"
   ]
  },
  {
   "cell_type": "code",
   "execution_count": null,
   "id": "ef34369c",
   "metadata": {},
   "outputs": [],
   "source": [
    "for feature,label in data:\n",
    "    features.append(feature)\n",
    "    labels.append(label)\n",
    "from sklearn.model_selection import train_test_split\n",
    "x_train,x_test,y_train,y_test=train_test_split(features,labels,test_size=0.10,random_state=47)\n"
   ]
  },
  {
   "cell_type": "code",
   "execution_count": null,
   "id": "0688f444",
   "metadata": {},
   "outputs": [],
   "source": [
    "from sklearn.svm import SVC\n",
    "model=SVC(C=1,kernel='poly',gamma='auto')\n",
    "model.fit(x_train,y_train)\n",
    "\n"
   ]
  },
  {
   "cell_type": "code",
   "execution_count": null,
   "id": "f9989b92",
   "metadata": {},
   "outputs": [],
   "source": [
    "prediction=model.predict(x_test)\n",
    "categories=['01_palm','02_l','03_fist','04_fist_moved','05_thumb','06_index','07_ok','08_palm_moved','09_c','10_down']\n",
    "print(\"prediction is:\",categories[prediction[0]])\n",
    "hand=x_test[0].reshape(50,50)\n",
    "plt.imshow(hand,cmap='gray') \n",
    "plt.show()                            \n",
    "\n",
    "from sklearn.metrics import accuracy_score\n",
    "accuracy=accuracy_score(prediction,y_test)\n",
    "print(accuracy)\n"
   ]
  },
  {
   "cell_type": "code",
   "execution_count": null,
   "id": "84b5883f",
   "metadata": {},
   "outputs": [],
   "source": [
    "# by user we can capture\n",
    "\n",
    "cap=cv2.VideoCapture(0)\n",
    "while True:\n",
    "    ret,frame=cap.read()\n",
    "    gest=cv2.cvtColor(frame,cv2.COLOR_BGR2GRAY)\n",
    "    gest=cv2.resize(gest,(50,50))\n",
    "    gest=gest.flatten()\n",
    "    prediction=model.predict([gest])\n",
    "    categories=['01_palm','02_l','03_fist','04_fist_moved','05_thumb','06_index','07_ok','08_palm_moved','09_c','10_down']\n",
    "    print(\"prediction is:\",categories[prediction[0]])\n",
    "    cv2.imshow('Frame',frame)\n",
    "    if cv2.waitKey(1) & 0xFF==ord('q'):\n",
    "        break\n",
    "    #plt.show()\n",
    "cap.release()\n",
    "cv2.destroyAllWindows()"
   ]
  },
  {
   "cell_type": "code",
   "execution_count": null,
   "id": "52e3b255",
   "metadata": {},
   "outputs": [],
   "source": []
  }
 ],
 "metadata": {
  "kernelspec": {
   "display_name": "Python 3 (ipykernel)",
   "language": "python",
   "name": "python3"
  },
  "language_info": {
   "codemirror_mode": {
    "name": "ipython",
    "version": 3
   },
   "file_extension": ".py",
   "mimetype": "text/x-python",
   "name": "python",
   "nbconvert_exporter": "python",
   "pygments_lexer": "ipython3",
   "version": "3.10.13"
  }
 },
 "nbformat": 4,
 "nbformat_minor": 5
}
